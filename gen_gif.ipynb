{
 "cells": [
  {
   "cell_type": "code",
   "execution_count": 17,
   "metadata": {},
   "outputs": [],
   "source": [
    "import os\n",
    "from PIL import Image\n",
    "\n",
    "\n",
    "# List of image filenames\n",
    "image_filenames = ['./figs/1.png']+[f'./figs/{i}.png' for i in range(2,41, 2)]\n",
    "\n",
    "# Open the first image\n",
    "first_image = Image.open(image_filenames[0])\n",
    "\n",
    "# Create a list to store the frames of the animation\n",
    "frames = [first_image]\n",
    "\n",
    "# Open and append the rest of the images\n",
    "for filename in image_filenames[1:]:\n",
    "    frame = Image.open(filename)\n",
    "    frames.append(frame)\n",
    "\n",
    "# Save the frames as a .gif animation\n",
    "frames[0].save('./figs/animation.gif', format='GIF', append_images=frames[1:], save_all=True, duration=200, loop=0)"
   ]
  },
  {
   "cell_type": "code",
   "execution_count": null,
   "metadata": {},
   "outputs": [],
   "source": []
  }
 ],
 "metadata": {
  "kernelspec": {
   "display_name": "base",
   "language": "python",
   "name": "python3"
  },
  "language_info": {
   "codemirror_mode": {
    "name": "ipython",
    "version": 3
   },
   "file_extension": ".py",
   "mimetype": "text/x-python",
   "name": "python",
   "nbconvert_exporter": "python",
   "pygments_lexer": "ipython3",
   "version": "3.9.5"
  },
  "orig_nbformat": 4
 },
 "nbformat": 4,
 "nbformat_minor": 2
}
